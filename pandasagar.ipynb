{
 "cells": [
  {
   "cell_type": "code",
   "execution_count": 76,
   "id": "37654737-a3cf-4370-bbcb-0e105a7fa2a1",
   "metadata": {},
   "outputs": [],
   "source": [
    "import numpy as np\n",
    "import pandas as pd \n",
    "import warnings\n",
    "warnings.filterwarnings(\"ignore\")"
   ]
  },
  {
   "cell_type": "markdown",
   "id": "1046a1a6-c3a7-484a-af52-9566df458a04",
   "metadata": {},
   "source": [
    "<h4>CREATING PANDAS SERIES AND DATA FRAME </h4>"
   ]
  },
  {
   "cell_type": "markdown",
   "id": "9532b442-6e13-4500-a9f5-b3e2a066b920",
   "metadata": {},
   "source": [
    "<h5>Series</h5>"
   ]
  },
  {
   "cell_type": "markdown",
   "id": "de877b28-8685-4f84-82ac-5c86b559ce30",
   "metadata": {},
   "source": [
    "#Creating series using list\n",
    "data=[1,2,3,4,5]\n",
    "pd.Series(data)"
   ]
  },
  {
   "cell_type": "code",
   "execution_count": 16,
   "id": "02f7a19c-2b80-4da2-83ab-0c0fc9c26b7e",
   "metadata": {},
   "outputs": [
    {
     "data": {
      "text/plain": [
       "1    a\n",
       "2    b\n",
       "3    c\n",
       "dtype: object"
      ]
     },
     "execution_count": 16,
     "metadata": {},
     "output_type": "execute_result"
    }
   ],
   "source": [
    "#Using Dictionary\n",
    "data={1:'a',2:'b',3:'c'}\n",
    "pd.Series(data)"
   ]
  },
  {
   "cell_type": "code",
   "execution_count": 18,
   "id": "b450485f-b223-4065-af0a-72f68838d462",
   "metadata": {},
   "outputs": [
    {
     "data": {
      "text/plain": [
       "a    51\n",
       "b    51\n",
       "c    51\n",
       "dtype: int64"
      ]
     },
     "execution_count": 18,
     "metadata": {},
     "output_type": "execute_result"
    }
   ],
   "source": [
    "#Using a Scalar Value \n",
    "pd.Series(51,index=['a','b','c'])"
   ]
  },
  {
   "cell_type": "code",
   "execution_count": 26,
   "id": "a5463112-8896-442e-a126-e5cad287bb7d",
   "metadata": {},
   "outputs": [
    {
     "data": {
      "text/plain": [
       "0    9\n",
       "1    3\n",
       "2    9\n",
       "3    2\n",
       "4    7\n",
       "5    3\n",
       "6    8\n",
       "7    4\n",
       "8    8\n",
       "9    1\n",
       "dtype: int32"
      ]
     },
     "execution_count": 26,
     "metadata": {},
     "output_type": "execute_result"
    }
   ],
   "source": [
    "#Using a Numpy Array\n",
    "data=np.random.randint(1,10,10)\n",
    "pd.Series(data)"
   ]
  },
  {
   "cell_type": "markdown",
   "id": "5aa3c589-fe4e-43ff-942d-a81cf8a8832c",
   "metadata": {},
   "source": [
    "<h5>Data Frame</h5>"
   ]
  },
  {
   "cell_type": "code",
   "execution_count": 41,
   "id": "657e0aeb-d97c-42f6-b201-16d200bcf37c",
   "metadata": {},
   "outputs": [
    {
     "data": {
      "text/html": [
       "<div>\n",
       "<style scoped>\n",
       "    .dataframe tbody tr th:only-of-type {\n",
       "        vertical-align: middle;\n",
       "    }\n",
       "\n",
       "    .dataframe tbody tr th {\n",
       "        vertical-align: top;\n",
       "    }\n",
       "\n",
       "    .dataframe thead th {\n",
       "        text-align: right;\n",
       "    }\n",
       "</style>\n",
       "<table border=\"1\" class=\"dataframe\">\n",
       "  <thead>\n",
       "    <tr style=\"text-align: right;\">\n",
       "      <th></th>\n",
       "      <th>Name</th>\n",
       "      <th>Age</th>\n",
       "      <th>City</th>\n",
       "    </tr>\n",
       "  </thead>\n",
       "  <tbody>\n",
       "    <tr>\n",
       "      <th>0</th>\n",
       "      <td>abc</td>\n",
       "      <td>20</td>\n",
       "      <td>Vizag</td>\n",
       "    </tr>\n",
       "    <tr>\n",
       "      <th>1</th>\n",
       "      <td>pqr</td>\n",
       "      <td>22</td>\n",
       "      <td>Guntur</td>\n",
       "    </tr>\n",
       "    <tr>\n",
       "      <th>2</th>\n",
       "      <td>uvw</td>\n",
       "      <td>24</td>\n",
       "      <td>Vijayawada</td>\n",
       "    </tr>\n",
       "    <tr>\n",
       "      <th>3</th>\n",
       "      <td>xyz</td>\n",
       "      <td>26</td>\n",
       "      <td>Tirupathi</td>\n",
       "    </tr>\n",
       "  </tbody>\n",
       "</table>\n",
       "</div>"
      ],
      "text/plain": [
       "  Name  Age        City\n",
       "0  abc   20       Vizag\n",
       "1  pqr   22      Guntur\n",
       "2  uvw   24  Vijayawada\n",
       "3  xyz   26   Tirupathi"
      ]
     },
     "execution_count": 41,
     "metadata": {},
     "output_type": "execute_result"
    }
   ],
   "source": [
    "#From Dictionary of Lists\n",
    "data = {\n",
    "    'Name': ['abc', 'pqr', 'uvw','xyz'],\n",
    "    'Age': [20,22,24,26],\n",
    "    'City': ['Vizag', 'Guntur', 'Vijayawada','Tirupathi']\n",
    "}\n",
    "pd.DataFrame(data)\n"
   ]
  },
  {
   "cell_type": "code",
   "execution_count": 43,
   "id": "ee5137f8-192c-4eae-9806-d38bda3baf70",
   "metadata": {},
   "outputs": [
    {
     "data": {
      "text/html": [
       "<div>\n",
       "<style scoped>\n",
       "    .dataframe tbody tr th:only-of-type {\n",
       "        vertical-align: middle;\n",
       "    }\n",
       "\n",
       "    .dataframe tbody tr th {\n",
       "        vertical-align: top;\n",
       "    }\n",
       "\n",
       "    .dataframe thead th {\n",
       "        text-align: right;\n",
       "    }\n",
       "</style>\n",
       "<table border=\"1\" class=\"dataframe\">\n",
       "  <thead>\n",
       "    <tr style=\"text-align: right;\">\n",
       "      <th></th>\n",
       "      <th>Name</th>\n",
       "      <th>Age</th>\n",
       "      <th>City</th>\n",
       "    </tr>\n",
       "  </thead>\n",
       "  <tbody>\n",
       "    <tr>\n",
       "      <th>0</th>\n",
       "      <td>abc</td>\n",
       "      <td>20</td>\n",
       "      <td>Vizag</td>\n",
       "    </tr>\n",
       "    <tr>\n",
       "      <th>1</th>\n",
       "      <td>pqr</td>\n",
       "      <td>22</td>\n",
       "      <td>Guntur</td>\n",
       "    </tr>\n",
       "    <tr>\n",
       "      <th>2</th>\n",
       "      <td>uvw</td>\n",
       "      <td>24</td>\n",
       "      <td>Vijayawada</td>\n",
       "    </tr>\n",
       "    <tr>\n",
       "      <th>3</th>\n",
       "      <td>xyz</td>\n",
       "      <td>26</td>\n",
       "      <td>Tirupathi</td>\n",
       "    </tr>\n",
       "  </tbody>\n",
       "</table>\n",
       "</div>"
      ],
      "text/plain": [
       "  Name  Age        City\n",
       "0  abc   20       Vizag\n",
       "1  pqr   22      Guntur\n",
       "2  uvw   24  Vijayawada\n",
       "3  xyz   26   Tirupathi"
      ]
     },
     "execution_count": 43,
     "metadata": {},
     "output_type": "execute_result"
    }
   ],
   "source": [
    "#From list of Dictionaries\n",
    "data = [\n",
    "    {'Name': 'abc', 'Age': 20, 'City': 'Vizag'},\n",
    "    {'Name': 'pqr', 'Age': 22, 'City': 'Guntur'},\n",
    "    {'Name': 'uvw', 'Age': 24, 'City': 'Vijayawada'},\n",
    "    {'Name': 'xyz', 'Age': 26, 'City': 'Tirupathi'}\n",
    "]\n",
    "pd.DataFrame(data)\n",
    "\n"
   ]
  },
  {
   "cell_type": "code",
   "execution_count": 45,
   "id": "89904dce-402c-43ed-9af4-8705ae7bdea9",
   "metadata": {},
   "outputs": [
    {
     "data": {
      "text/html": [
       "<div>\n",
       "<style scoped>\n",
       "    .dataframe tbody tr th:only-of-type {\n",
       "        vertical-align: middle;\n",
       "    }\n",
       "\n",
       "    .dataframe tbody tr th {\n",
       "        vertical-align: top;\n",
       "    }\n",
       "\n",
       "    .dataframe thead th {\n",
       "        text-align: right;\n",
       "    }\n",
       "</style>\n",
       "<table border=\"1\" class=\"dataframe\">\n",
       "  <thead>\n",
       "    <tr style=\"text-align: right;\">\n",
       "      <th></th>\n",
       "      <th>Name</th>\n",
       "      <th>Age</th>\n",
       "      <th>City</th>\n",
       "    </tr>\n",
       "  </thead>\n",
       "  <tbody>\n",
       "    <tr>\n",
       "      <th>0</th>\n",
       "      <td>abc</td>\n",
       "      <td>20</td>\n",
       "      <td>Vizag</td>\n",
       "    </tr>\n",
       "    <tr>\n",
       "      <th>1</th>\n",
       "      <td>pqr</td>\n",
       "      <td>22</td>\n",
       "      <td>Guntur</td>\n",
       "    </tr>\n",
       "    <tr>\n",
       "      <th>2</th>\n",
       "      <td>uvw</td>\n",
       "      <td>24</td>\n",
       "      <td>Vijayawada</td>\n",
       "    </tr>\n",
       "    <tr>\n",
       "      <th>3</th>\n",
       "      <td>xyz</td>\n",
       "      <td>26</td>\n",
       "      <td>Tirupathi</td>\n",
       "    </tr>\n",
       "  </tbody>\n",
       "</table>\n",
       "</div>"
      ],
      "text/plain": [
       "  Name  Age        City\n",
       "0  abc   20       Vizag\n",
       "1  pqr   22      Guntur\n",
       "2  uvw   24  Vijayawada\n",
       "3  xyz   26   Tirupathi"
      ]
     },
     "execution_count": 45,
     "metadata": {},
     "output_type": "execute_result"
    }
   ],
   "source": [
    "#from Dictionary of Series\n",
    "data = {\n",
    "    'Name': pd.Series(['abc', 'pqr', 'uvw','xyz']),\n",
    "    'Age': pd.Series([20,22,24,26]),\n",
    "    'City': pd.Series(['Vizag', 'Guntur', 'Vijayawada','Tirupathi'])\n",
    "}\n",
    "pd.DataFrame(data)\n",
    "\n"
   ]
  },
  {
   "cell_type": "code",
   "execution_count": 47,
   "id": "5da1838f-c81c-44c4-b232-75818b26f07b",
   "metadata": {},
   "outputs": [
    {
     "data": {
      "text/html": [
       "<div>\n",
       "<style scoped>\n",
       "    .dataframe tbody tr th:only-of-type {\n",
       "        vertical-align: middle;\n",
       "    }\n",
       "\n",
       "    .dataframe tbody tr th {\n",
       "        vertical-align: top;\n",
       "    }\n",
       "\n",
       "    .dataframe thead th {\n",
       "        text-align: right;\n",
       "    }\n",
       "</style>\n",
       "<table border=\"1\" class=\"dataframe\">\n",
       "  <thead>\n",
       "    <tr style=\"text-align: right;\">\n",
       "      <th></th>\n",
       "      <th>Age</th>\n",
       "      <th>Name</th>\n",
       "      <th>City</th>\n",
       "    </tr>\n",
       "  </thead>\n",
       "  <tbody>\n",
       "    <tr>\n",
       "      <th>0</th>\n",
       "      <td>20</td>\n",
       "      <td>abc</td>\n",
       "      <td>Vizag</td>\n",
       "    </tr>\n",
       "    <tr>\n",
       "      <th>1</th>\n",
       "      <td>22</td>\n",
       "      <td>pqr</td>\n",
       "      <td>Guntur</td>\n",
       "    </tr>\n",
       "    <tr>\n",
       "      <th>2</th>\n",
       "      <td>24</td>\n",
       "      <td>uvw</td>\n",
       "      <td>Vijayawada</td>\n",
       "    </tr>\n",
       "    <tr>\n",
       "      <th>3</th>\n",
       "      <td>26</td>\n",
       "      <td>xyz</td>\n",
       "      <td>Tirupathi</td>\n",
       "    </tr>\n",
       "  </tbody>\n",
       "</table>\n",
       "</div>"
      ],
      "text/plain": [
       "   Age Name        City\n",
       "0   20  abc       Vizag\n",
       "1   22  pqr      Guntur\n",
       "2   24  uvw  Vijayawada\n",
       "3   26  xyz   Tirupathi"
      ]
     },
     "execution_count": 47,
     "metadata": {},
     "output_type": "execute_result"
    }
   ],
   "source": [
    "#From list of Lists \n",
    "data = [\n",
    "    [20, 'abc', 'Vizag'],\n",
    "    [22, 'pqr', 'Guntur'],\n",
    "    [24, 'uvw', 'Vijayawada'],\n",
    "    [26,'xyz','Tirupathi']\n",
    "]\n",
    "pd.DataFrame(data, columns=['Age', 'Name', 'City'])\n",
    "\n"
   ]
  },
  {
   "cell_type": "markdown",
   "id": "a5338b92-0295-482f-ad68-8abb7aedb689",
   "metadata": {},
   "source": [
    "<h4> Operations on Pandas </h4>"
   ]
  },
  {
   "cell_type": "markdown",
   "id": "4d996f1c-b752-4e9b-b09a-fcf1dab76a76",
   "metadata": {},
   "source": [
    "<h5>Selcting Columns</h5>"
   ]
  },
  {
   "cell_type": "code",
   "execution_count": 65,
   "id": "142e6786-0fd6-408f-8ef7-5bc9df1acf17",
   "metadata": {},
   "outputs": [],
   "source": [
    "#From Dictionary of Lists\n",
    "data = {\n",
    "    'Name': ['abc', 'pqr', 'uvw','xyz'],\n",
    "    'Age': [20,22,24,26],\n",
    "    'City': ['Vizag', 'Guntur', 'Vijayawada','Tirupathi']\n",
    "}\n",
    "data=pd.DataFrame(data)\n"
   ]
  },
  {
   "cell_type": "code",
   "execution_count": 54,
   "id": "64a1dcd2-a4c5-409e-a333-d66f569440f7",
   "metadata": {},
   "outputs": [
    {
     "data": {
      "text/html": [
       "<div>\n",
       "<style scoped>\n",
       "    .dataframe tbody tr th:only-of-type {\n",
       "        vertical-align: middle;\n",
       "    }\n",
       "\n",
       "    .dataframe tbody tr th {\n",
       "        vertical-align: top;\n",
       "    }\n",
       "\n",
       "    .dataframe thead th {\n",
       "        text-align: right;\n",
       "    }\n",
       "</style>\n",
       "<table border=\"1\" class=\"dataframe\">\n",
       "  <thead>\n",
       "    <tr style=\"text-align: right;\">\n",
       "      <th></th>\n",
       "      <th>Name</th>\n",
       "      <th>Age</th>\n",
       "      <th>City</th>\n",
       "    </tr>\n",
       "  </thead>\n",
       "  <tbody>\n",
       "    <tr>\n",
       "      <th>0</th>\n",
       "      <td>abc</td>\n",
       "      <td>20</td>\n",
       "      <td>Vizag</td>\n",
       "    </tr>\n",
       "    <tr>\n",
       "      <th>1</th>\n",
       "      <td>pqr</td>\n",
       "      <td>22</td>\n",
       "      <td>Guntur</td>\n",
       "    </tr>\n",
       "    <tr>\n",
       "      <th>2</th>\n",
       "      <td>uvw</td>\n",
       "      <td>24</td>\n",
       "      <td>Vijayawada</td>\n",
       "    </tr>\n",
       "    <tr>\n",
       "      <th>3</th>\n",
       "      <td>xyz</td>\n",
       "      <td>26</td>\n",
       "      <td>Tirupathi</td>\n",
       "    </tr>\n",
       "  </tbody>\n",
       "</table>\n",
       "</div>"
      ],
      "text/plain": [
       "  Name  Age        City\n",
       "0  abc   20       Vizag\n",
       "1  pqr   22      Guntur\n",
       "2  uvw   24  Vijayawada\n",
       "3  xyz   26   Tirupathi"
      ]
     },
     "execution_count": 54,
     "metadata": {},
     "output_type": "execute_result"
    }
   ],
   "source": [
    "data"
   ]
  },
  {
   "cell_type": "code",
   "execution_count": 56,
   "id": "85f98561-a05b-409b-bfbb-1e5ad96d3a0d",
   "metadata": {},
   "outputs": [
    {
     "data": {
      "text/plain": [
       "0    abc\n",
       "1    pqr\n",
       "2    uvw\n",
       "3    xyz\n",
       "Name: Name, dtype: object"
      ]
     },
     "execution_count": 56,
     "metadata": {},
     "output_type": "execute_result"
    }
   ],
   "source": [
    "data[\"Name\"]"
   ]
  },
  {
   "cell_type": "code",
   "execution_count": 58,
   "id": "5f695221-62e5-4ab9-bc9d-e4295bf25843",
   "metadata": {},
   "outputs": [
    {
     "data": {
      "text/html": [
       "<div>\n",
       "<style scoped>\n",
       "    .dataframe tbody tr th:only-of-type {\n",
       "        vertical-align: middle;\n",
       "    }\n",
       "\n",
       "    .dataframe tbody tr th {\n",
       "        vertical-align: top;\n",
       "    }\n",
       "\n",
       "    .dataframe thead th {\n",
       "        text-align: right;\n",
       "    }\n",
       "</style>\n",
       "<table border=\"1\" class=\"dataframe\">\n",
       "  <thead>\n",
       "    <tr style=\"text-align: right;\">\n",
       "      <th></th>\n",
       "      <th>Name</th>\n",
       "      <th>Age</th>\n",
       "    </tr>\n",
       "  </thead>\n",
       "  <tbody>\n",
       "    <tr>\n",
       "      <th>0</th>\n",
       "      <td>abc</td>\n",
       "      <td>20</td>\n",
       "    </tr>\n",
       "    <tr>\n",
       "      <th>1</th>\n",
       "      <td>pqr</td>\n",
       "      <td>22</td>\n",
       "    </tr>\n",
       "    <tr>\n",
       "      <th>2</th>\n",
       "      <td>uvw</td>\n",
       "      <td>24</td>\n",
       "    </tr>\n",
       "    <tr>\n",
       "      <th>3</th>\n",
       "      <td>xyz</td>\n",
       "      <td>26</td>\n",
       "    </tr>\n",
       "  </tbody>\n",
       "</table>\n",
       "</div>"
      ],
      "text/plain": [
       "  Name  Age\n",
       "0  abc   20\n",
       "1  pqr   22\n",
       "2  uvw   24\n",
       "3  xyz   26"
      ]
     },
     "execution_count": 58,
     "metadata": {},
     "output_type": "execute_result"
    }
   ],
   "source": [
    "data[[\"Name\",\"Age\"]]"
   ]
  },
  {
   "cell_type": "markdown",
   "id": "393647b9-0f08-4eae-9dd5-bfb49cb9c4a4",
   "metadata": {},
   "source": [
    " <h5>Selecting Rows by Index</h5>"
   ]
  },
  {
   "cell_type": "code",
   "execution_count": 96,
   "id": "d9198d34-6c15-4478-9db6-3f2d4b9d8ab7",
   "metadata": {},
   "outputs": [
    {
     "data": {
      "text/plain": [
       "Name      abc\n",
       "Age        20\n",
       "City    Vizag\n",
       "Name: 0, dtype: object"
      ]
     },
     "execution_count": 96,
     "metadata": {},
     "output_type": "execute_result"
    }
   ],
   "source": [
    "data.loc[0]"
   ]
  },
  {
   "cell_type": "code",
   "execution_count": 78,
   "id": "72c0a30a-aead-4127-bea0-e5b09d250515",
   "metadata": {},
   "outputs": [
    {
     "data": {
      "text/plain": [
       "20"
      ]
     },
     "execution_count": 78,
     "metadata": {},
     "output_type": "execute_result"
    }
   ],
   "source": [
    "data.loc[0][1]"
   ]
  },
  {
   "cell_type": "code",
   "execution_count": 88,
   "id": "d5962bbe-ceb8-4bd3-a5d3-9b4ec70639d2",
   "metadata": {},
   "outputs": [
    {
     "data": {
      "text/html": [
       "<div>\n",
       "<style scoped>\n",
       "    .dataframe tbody tr th:only-of-type {\n",
       "        vertical-align: middle;\n",
       "    }\n",
       "\n",
       "    .dataframe tbody tr th {\n",
       "        vertical-align: top;\n",
       "    }\n",
       "\n",
       "    .dataframe thead th {\n",
       "        text-align: right;\n",
       "    }\n",
       "</style>\n",
       "<table border=\"1\" class=\"dataframe\">\n",
       "  <thead>\n",
       "    <tr style=\"text-align: right;\">\n",
       "      <th></th>\n",
       "      <th>Name</th>\n",
       "      <th>Age</th>\n",
       "      <th>City</th>\n",
       "    </tr>\n",
       "  </thead>\n",
       "  <tbody>\n",
       "    <tr>\n",
       "      <th>0</th>\n",
       "      <td>abc</td>\n",
       "      <td>20</td>\n",
       "      <td>Vizag</td>\n",
       "    </tr>\n",
       "  </tbody>\n",
       "</table>\n",
       "</div>"
      ],
      "text/plain": [
       "  Name  Age   City\n",
       "0  abc   20  Vizag"
      ]
     },
     "execution_count": 88,
     "metadata": {},
     "output_type": "execute_result"
    }
   ],
   "source": [
    "data.loc[:0]"
   ]
  },
  {
   "cell_type": "code",
   "execution_count": 90,
   "id": "ead580c2-3ffb-49a2-a3ac-6ec93b885329",
   "metadata": {},
   "outputs": [
    {
     "data": {
      "text/plain": [
       "Name      abc\n",
       "Age        20\n",
       "City    Vizag\n",
       "Name: 0, dtype: object"
      ]
     },
     "execution_count": 90,
     "metadata": {},
     "output_type": "execute_result"
    }
   ],
   "source": [
    "data.iloc[0]"
   ]
  },
  {
   "cell_type": "code",
   "execution_count": 102,
   "id": "c3f72122-0350-4ca4-80cc-ed2b34d5ebff",
   "metadata": {},
   "outputs": [
    {
     "data": {
      "text/html": [
       "<div>\n",
       "<style scoped>\n",
       "    .dataframe tbody tr th:only-of-type {\n",
       "        vertical-align: middle;\n",
       "    }\n",
       "\n",
       "    .dataframe tbody tr th {\n",
       "        vertical-align: top;\n",
       "    }\n",
       "\n",
       "    .dataframe thead th {\n",
       "        text-align: right;\n",
       "    }\n",
       "</style>\n",
       "<table border=\"1\" class=\"dataframe\">\n",
       "  <thead>\n",
       "    <tr style=\"text-align: right;\">\n",
       "      <th></th>\n",
       "      <th>Name</th>\n",
       "      <th>Age</th>\n",
       "      <th>City</th>\n",
       "    </tr>\n",
       "  </thead>\n",
       "  <tbody>\n",
       "    <tr>\n",
       "      <th>0</th>\n",
       "      <td>abc</td>\n",
       "      <td>20</td>\n",
       "      <td>Vizag</td>\n",
       "    </tr>\n",
       "    <tr>\n",
       "      <th>1</th>\n",
       "      <td>pqr</td>\n",
       "      <td>22</td>\n",
       "      <td>Guntur</td>\n",
       "    </tr>\n",
       "  </tbody>\n",
       "</table>\n",
       "</div>"
      ],
      "text/plain": [
       "  Name  Age    City\n",
       "0  abc   20   Vizag\n",
       "1  pqr   22  Guntur"
      ]
     },
     "execution_count": 102,
     "metadata": {},
     "output_type": "execute_result"
    }
   ],
   "source": [
    "data.iloc[:2]"
   ]
  },
  {
   "cell_type": "markdown",
   "id": "253f4a42-e0fd-4a43-936d-e231b7a24771",
   "metadata": {},
   "source": [
    "<h5>Filtering Rows</h5>"
   ]
  },
  {
   "cell_type": "code",
   "execution_count": 105,
   "id": "960b5b99-1853-4ea1-8879-eab654091809",
   "metadata": {},
   "outputs": [
    {
     "data": {
      "text/html": [
       "<div>\n",
       "<style scoped>\n",
       "    .dataframe tbody tr th:only-of-type {\n",
       "        vertical-align: middle;\n",
       "    }\n",
       "\n",
       "    .dataframe tbody tr th {\n",
       "        vertical-align: top;\n",
       "    }\n",
       "\n",
       "    .dataframe thead th {\n",
       "        text-align: right;\n",
       "    }\n",
       "</style>\n",
       "<table border=\"1\" class=\"dataframe\">\n",
       "  <thead>\n",
       "    <tr style=\"text-align: right;\">\n",
       "      <th></th>\n",
       "      <th>Name</th>\n",
       "      <th>Age</th>\n",
       "      <th>City</th>\n",
       "    </tr>\n",
       "  </thead>\n",
       "  <tbody>\n",
       "    <tr>\n",
       "      <th>2</th>\n",
       "      <td>uvw</td>\n",
       "      <td>24</td>\n",
       "      <td>Vijayawada</td>\n",
       "    </tr>\n",
       "    <tr>\n",
       "      <th>3</th>\n",
       "      <td>xyz</td>\n",
       "      <td>26</td>\n",
       "      <td>Tirupathi</td>\n",
       "    </tr>\n",
       "  </tbody>\n",
       "</table>\n",
       "</div>"
      ],
      "text/plain": [
       "  Name  Age        City\n",
       "2  uvw   24  Vijayawada\n",
       "3  xyz   26   Tirupathi"
      ]
     },
     "execution_count": 105,
     "metadata": {},
     "output_type": "execute_result"
    }
   ],
   "source": [
    "data[data[\"Age\"]>22]"
   ]
  },
  {
   "cell_type": "code",
   "execution_count": 109,
   "id": "453ccbfa-09fe-4be3-a915-e0cbd9ed8f59",
   "metadata": {},
   "outputs": [
    {
     "data": {
      "text/html": [
       "<div>\n",
       "<style scoped>\n",
       "    .dataframe tbody tr th:only-of-type {\n",
       "        vertical-align: middle;\n",
       "    }\n",
       "\n",
       "    .dataframe tbody tr th {\n",
       "        vertical-align: top;\n",
       "    }\n",
       "\n",
       "    .dataframe thead th {\n",
       "        text-align: right;\n",
       "    }\n",
       "</style>\n",
       "<table border=\"1\" class=\"dataframe\">\n",
       "  <thead>\n",
       "    <tr style=\"text-align: right;\">\n",
       "      <th></th>\n",
       "      <th>Name</th>\n",
       "      <th>Age</th>\n",
       "      <th>City</th>\n",
       "    </tr>\n",
       "  </thead>\n",
       "  <tbody>\n",
       "    <tr>\n",
       "      <th>0</th>\n",
       "      <td>abc</td>\n",
       "      <td>20</td>\n",
       "      <td>Vizag</td>\n",
       "    </tr>\n",
       "  </tbody>\n",
       "</table>\n",
       "</div>"
      ],
      "text/plain": [
       "  Name  Age   City\n",
       "0  abc   20  Vizag"
      ]
     },
     "execution_count": 109,
     "metadata": {},
     "output_type": "execute_result"
    }
   ],
   "source": [
    "data[data[\"City\"]==\"Vizag\"]"
   ]
  },
  {
   "cell_type": "code",
   "execution_count": 111,
   "id": "1fdbc5c6-ca1c-4086-9cab-f06d02c1185f",
   "metadata": {},
   "outputs": [
    {
     "data": {
      "text/html": [
       "<div>\n",
       "<style scoped>\n",
       "    .dataframe tbody tr th:only-of-type {\n",
       "        vertical-align: middle;\n",
       "    }\n",
       "\n",
       "    .dataframe tbody tr th {\n",
       "        vertical-align: top;\n",
       "    }\n",
       "\n",
       "    .dataframe thead th {\n",
       "        text-align: right;\n",
       "    }\n",
       "</style>\n",
       "<table border=\"1\" class=\"dataframe\">\n",
       "  <thead>\n",
       "    <tr style=\"text-align: right;\">\n",
       "      <th></th>\n",
       "      <th>Name</th>\n",
       "      <th>Age</th>\n",
       "      <th>City</th>\n",
       "    </tr>\n",
       "  </thead>\n",
       "  <tbody>\n",
       "  </tbody>\n",
       "</table>\n",
       "</div>"
      ],
      "text/plain": [
       "Empty DataFrame\n",
       "Columns: [Name, Age, City]\n",
       "Index: []"
      ]
     },
     "execution_count": 111,
     "metadata": {},
     "output_type": "execute_result"
    }
   ],
   "source": [
    "data[data[\"Age\"]>30]"
   ]
  },
  {
   "cell_type": "code",
   "execution_count": 119,
   "id": "e5a1f450-ccff-4e84-b18c-da8d8221bf78",
   "metadata": {},
   "outputs": [
    {
     "data": {
      "text/html": [
       "<div>\n",
       "<style scoped>\n",
       "    .dataframe tbody tr th:only-of-type {\n",
       "        vertical-align: middle;\n",
       "    }\n",
       "\n",
       "    .dataframe tbody tr th {\n",
       "        vertical-align: top;\n",
       "    }\n",
       "\n",
       "    .dataframe thead th {\n",
       "        text-align: right;\n",
       "    }\n",
       "</style>\n",
       "<table border=\"1\" class=\"dataframe\">\n",
       "  <thead>\n",
       "    <tr style=\"text-align: right;\">\n",
       "      <th></th>\n",
       "      <th>Name</th>\n",
       "      <th>Age</th>\n",
       "      <th>City</th>\n",
       "    </tr>\n",
       "  </thead>\n",
       "  <tbody>\n",
       "    <tr>\n",
       "      <th>3</th>\n",
       "      <td>xyz</td>\n",
       "      <td>26</td>\n",
       "      <td>Tirupathi</td>\n",
       "    </tr>\n",
       "  </tbody>\n",
       "</table>\n",
       "</div>"
      ],
      "text/plain": [
       "  Name  Age       City\n",
       "3  xyz   26  Tirupathi"
      ]
     },
     "execution_count": 119,
     "metadata": {},
     "output_type": "execute_result"
    }
   ],
   "source": [
    "data[(data[\"Age\"]>28) | (data[\"City\"]==\"Tirupathi\")]"
   ]
  },
  {
   "cell_type": "markdown",
   "id": "a45cc7d1-1c42-4c89-abcd-de6c4bc4bbe7",
   "metadata": {},
   "source": [
    "<h5>Modify Data</h5>"
   ]
  },
  {
   "cell_type": "code",
   "execution_count": 122,
   "id": "8d49b18e-2ed4-42d2-9db3-949ba0565062",
   "metadata": {},
   "outputs": [],
   "source": [
    "data[\"Salary\"]=[70000,60000,1000000,800000]"
   ]
  },
  {
   "cell_type": "code",
   "execution_count": 124,
   "id": "6ed2a029-9147-4f8d-9c8e-8c72bbca4b28",
   "metadata": {},
   "outputs": [
    {
     "data": {
      "text/html": [
       "<div>\n",
       "<style scoped>\n",
       "    .dataframe tbody tr th:only-of-type {\n",
       "        vertical-align: middle;\n",
       "    }\n",
       "\n",
       "    .dataframe tbody tr th {\n",
       "        vertical-align: top;\n",
       "    }\n",
       "\n",
       "    .dataframe thead th {\n",
       "        text-align: right;\n",
       "    }\n",
       "</style>\n",
       "<table border=\"1\" class=\"dataframe\">\n",
       "  <thead>\n",
       "    <tr style=\"text-align: right;\">\n",
       "      <th></th>\n",
       "      <th>Name</th>\n",
       "      <th>Age</th>\n",
       "      <th>City</th>\n",
       "      <th>Salary</th>\n",
       "    </tr>\n",
       "  </thead>\n",
       "  <tbody>\n",
       "    <tr>\n",
       "      <th>0</th>\n",
       "      <td>abc</td>\n",
       "      <td>20</td>\n",
       "      <td>Vizag</td>\n",
       "      <td>70000</td>\n",
       "    </tr>\n",
       "    <tr>\n",
       "      <th>1</th>\n",
       "      <td>pqr</td>\n",
       "      <td>22</td>\n",
       "      <td>Guntur</td>\n",
       "      <td>60000</td>\n",
       "    </tr>\n",
       "    <tr>\n",
       "      <th>2</th>\n",
       "      <td>uvw</td>\n",
       "      <td>24</td>\n",
       "      <td>Vijayawada</td>\n",
       "      <td>1000000</td>\n",
       "    </tr>\n",
       "    <tr>\n",
       "      <th>3</th>\n",
       "      <td>xyz</td>\n",
       "      <td>26</td>\n",
       "      <td>Tirupathi</td>\n",
       "      <td>800000</td>\n",
       "    </tr>\n",
       "  </tbody>\n",
       "</table>\n",
       "</div>"
      ],
      "text/plain": [
       "  Name  Age        City   Salary\n",
       "0  abc   20       Vizag    70000\n",
       "1  pqr   22      Guntur    60000\n",
       "2  uvw   24  Vijayawada  1000000\n",
       "3  xyz   26   Tirupathi   800000"
      ]
     },
     "execution_count": 124,
     "metadata": {},
     "output_type": "execute_result"
    }
   ],
   "source": [
    "data"
   ]
  },
  {
   "cell_type": "code",
   "execution_count": 130,
   "id": "59315f52-ee72-4bbc-83f0-fc2ac0765167",
   "metadata": {},
   "outputs": [],
   "source": [
    "data.loc[data[\"Name\"]==\"pqr\",\"Name\"]=\"def\""
   ]
  },
  {
   "cell_type": "code",
   "execution_count": 132,
   "id": "5030d3df-bac7-4ada-8d75-dcc0d9801307",
   "metadata": {},
   "outputs": [
    {
     "data": {
      "text/html": [
       "<div>\n",
       "<style scoped>\n",
       "    .dataframe tbody tr th:only-of-type {\n",
       "        vertical-align: middle;\n",
       "    }\n",
       "\n",
       "    .dataframe tbody tr th {\n",
       "        vertical-align: top;\n",
       "    }\n",
       "\n",
       "    .dataframe thead th {\n",
       "        text-align: right;\n",
       "    }\n",
       "</style>\n",
       "<table border=\"1\" class=\"dataframe\">\n",
       "  <thead>\n",
       "    <tr style=\"text-align: right;\">\n",
       "      <th></th>\n",
       "      <th>Name</th>\n",
       "      <th>Age</th>\n",
       "      <th>City</th>\n",
       "      <th>Salary</th>\n",
       "    </tr>\n",
       "  </thead>\n",
       "  <tbody>\n",
       "    <tr>\n",
       "      <th>0</th>\n",
       "      <td>abc</td>\n",
       "      <td>20</td>\n",
       "      <td>Vizag</td>\n",
       "      <td>70000</td>\n",
       "    </tr>\n",
       "    <tr>\n",
       "      <th>1</th>\n",
       "      <td>def</td>\n",
       "      <td>22</td>\n",
       "      <td>Guntur</td>\n",
       "      <td>60000</td>\n",
       "    </tr>\n",
       "    <tr>\n",
       "      <th>2</th>\n",
       "      <td>uvw</td>\n",
       "      <td>24</td>\n",
       "      <td>Vijayawada</td>\n",
       "      <td>1000000</td>\n",
       "    </tr>\n",
       "    <tr>\n",
       "      <th>3</th>\n",
       "      <td>xyz</td>\n",
       "      <td>26</td>\n",
       "      <td>Tirupathi</td>\n",
       "      <td>800000</td>\n",
       "    </tr>\n",
       "  </tbody>\n",
       "</table>\n",
       "</div>"
      ],
      "text/plain": [
       "  Name  Age        City   Salary\n",
       "0  abc   20       Vizag    70000\n",
       "1  def   22      Guntur    60000\n",
       "2  uvw   24  Vijayawada  1000000\n",
       "3  xyz   26   Tirupathi   800000"
      ]
     },
     "execution_count": 132,
     "metadata": {},
     "output_type": "execute_result"
    }
   ],
   "source": [
    "data"
   ]
  },
  {
   "cell_type": "markdown",
   "id": "14e359b6-d879-40da-b1d6-de07f380789f",
   "metadata": {},
   "source": [
    "<h4>Data Handling with Pandas</h4>"
   ]
  },
  {
   "cell_type": "code",
   "execution_count": 135,
   "id": "67168e0f-74a4-4e36-81ab-16f77c6393e2",
   "metadata": {},
   "outputs": [],
   "source": [
    "df=pd.read_csv(\"train.csv\")"
   ]
  },
  {
   "cell_type": "code",
   "execution_count": 137,
   "id": "2ea178a3-2b15-4825-af3f-0709adbec7e5",
   "metadata": {},
   "outputs": [
    {
     "data": {
      "text/html": [
       "<div>\n",
       "<style scoped>\n",
       "    .dataframe tbody tr th:only-of-type {\n",
       "        vertical-align: middle;\n",
       "    }\n",
       "\n",
       "    .dataframe tbody tr th {\n",
       "        vertical-align: top;\n",
       "    }\n",
       "\n",
       "    .dataframe thead th {\n",
       "        text-align: right;\n",
       "    }\n",
       "</style>\n",
       "<table border=\"1\" class=\"dataframe\">\n",
       "  <thead>\n",
       "    <tr style=\"text-align: right;\">\n",
       "      <th></th>\n",
       "      <th>PassengerId</th>\n",
       "      <th>Survived</th>\n",
       "      <th>Pclass</th>\n",
       "      <th>Name</th>\n",
       "      <th>Sex</th>\n",
       "      <th>Age</th>\n",
       "      <th>SibSp</th>\n",
       "      <th>Parch</th>\n",
       "      <th>Ticket</th>\n",
       "      <th>Fare</th>\n",
       "      <th>Cabin</th>\n",
       "      <th>Embarked</th>\n",
       "    </tr>\n",
       "  </thead>\n",
       "  <tbody>\n",
       "    <tr>\n",
       "      <th>200</th>\n",
       "      <td>201</td>\n",
       "      <td>0</td>\n",
       "      <td>3</td>\n",
       "      <td>Vande Walle, Mr. Nestor Cyriel</td>\n",
       "      <td>male</td>\n",
       "      <td>28.0</td>\n",
       "      <td>0</td>\n",
       "      <td>0</td>\n",
       "      <td>345770</td>\n",
       "      <td>9.50</td>\n",
       "      <td>NaN</td>\n",
       "      <td>S</td>\n",
       "    </tr>\n",
       "    <tr>\n",
       "      <th>726</th>\n",
       "      <td>727</td>\n",
       "      <td>1</td>\n",
       "      <td>2</td>\n",
       "      <td>Renouf, Mrs. Peter Henry (Lillian Jefferys)</td>\n",
       "      <td>female</td>\n",
       "      <td>30.0</td>\n",
       "      <td>3</td>\n",
       "      <td>0</td>\n",
       "      <td>31027</td>\n",
       "      <td>21.00</td>\n",
       "      <td>NaN</td>\n",
       "      <td>S</td>\n",
       "    </tr>\n",
       "    <tr>\n",
       "      <th>297</th>\n",
       "      <td>298</td>\n",
       "      <td>0</td>\n",
       "      <td>1</td>\n",
       "      <td>Allison, Miss. Helen Loraine</td>\n",
       "      <td>female</td>\n",
       "      <td>2.0</td>\n",
       "      <td>1</td>\n",
       "      <td>2</td>\n",
       "      <td>113781</td>\n",
       "      <td>151.55</td>\n",
       "      <td>C22 C26</td>\n",
       "      <td>S</td>\n",
       "    </tr>\n",
       "  </tbody>\n",
       "</table>\n",
       "</div>"
      ],
      "text/plain": [
       "     PassengerId  Survived  Pclass  \\\n",
       "200          201         0       3   \n",
       "726          727         1       2   \n",
       "297          298         0       1   \n",
       "\n",
       "                                            Name     Sex   Age  SibSp  Parch  \\\n",
       "200               Vande Walle, Mr. Nestor Cyriel    male  28.0      0      0   \n",
       "726  Renouf, Mrs. Peter Henry (Lillian Jefferys)  female  30.0      3      0   \n",
       "297                 Allison, Miss. Helen Loraine  female   2.0      1      2   \n",
       "\n",
       "     Ticket    Fare    Cabin Embarked  \n",
       "200  345770    9.50      NaN        S  \n",
       "726   31027   21.00      NaN        S  \n",
       "297  113781  151.55  C22 C26        S  "
      ]
     },
     "execution_count": 137,
     "metadata": {},
     "output_type": "execute_result"
    }
   ],
   "source": [
    "df.sample(3)"
   ]
  },
  {
   "cell_type": "code",
   "execution_count": 141,
   "id": "d9c38be8-1e38-41ae-9b7f-8d736d3ec2b6",
   "metadata": {},
   "outputs": [
    {
     "data": {
      "text/plain": [
       "PassengerId      0\n",
       "Survived         0\n",
       "Pclass           0\n",
       "Name             0\n",
       "Sex              0\n",
       "Age            177\n",
       "SibSp            0\n",
       "Parch            0\n",
       "Ticket           0\n",
       "Fare             0\n",
       "Cabin          687\n",
       "Embarked         2\n",
       "dtype: int64"
      ]
     },
     "execution_count": 141,
     "metadata": {},
     "output_type": "execute_result"
    }
   ],
   "source": [
    "df.isnull().sum()"
   ]
  },
  {
   "cell_type": "markdown",
   "id": "80e75baa-7368-45b3-8d12-49af88d16cc9",
   "metadata": {},
   "source": [
    "<h5>Filling Missing Data</h5>"
   ]
  },
  {
   "cell_type": "code",
   "execution_count": 174,
   "id": "bbec42d9-0131-4d3b-8b9a-f737cd8d633c",
   "metadata": {},
   "outputs": [],
   "source": [
    "#data cleaning \n",
    "df[\"Age\"].fillna(df[\"Age\"].mean(),inplace=True)"
   ]
  },
  {
   "cell_type": "code",
   "execution_count": 158,
   "id": "1b9f1028-c9a8-4b8c-a9e6-dc561d02cec9",
   "metadata": {},
   "outputs": [
    {
     "data": {
      "text/plain": [
       "PassengerId      0\n",
       "Survived         0\n",
       "Pclass           0\n",
       "Name             0\n",
       "Sex              0\n",
       "Age              0\n",
       "SibSp            0\n",
       "Parch            0\n",
       "Ticket           0\n",
       "Fare             0\n",
       "Cabin          687\n",
       "Embarked         2\n",
       "dtype: int64"
      ]
     },
     "execution_count": 158,
     "metadata": {},
     "output_type": "execute_result"
    }
   ],
   "source": [
    "df.isnull().sum()"
   ]
  },
  {
   "cell_type": "code",
   "execution_count": 166,
   "id": "aac77ffe-2579-46f3-8ba6-c9126d766e79",
   "metadata": {},
   "outputs": [
    {
     "name": "stdout",
     "output_type": "stream",
     "text": [
      "<class 'pandas.core.frame.DataFrame'>\n",
      "RangeIndex: 891 entries, 0 to 890\n",
      "Data columns (total 12 columns):\n",
      " #   Column       Non-Null Count  Dtype  \n",
      "---  ------       --------------  -----  \n",
      " 0   PassengerId  891 non-null    int64  \n",
      " 1   Survived     891 non-null    int64  \n",
      " 2   Pclass       891 non-null    int64  \n",
      " 3   Name         891 non-null    object \n",
      " 4   Sex          891 non-null    object \n",
      " 5   Age          891 non-null    float64\n",
      " 6   SibSp        891 non-null    int64  \n",
      " 7   Parch        891 non-null    int64  \n",
      " 8   Ticket       891 non-null    object \n",
      " 9   Fare         891 non-null    float64\n",
      " 10  Cabin        204 non-null    object \n",
      " 11  Embarked     889 non-null    object \n",
      "dtypes: float64(2), int64(5), object(5)\n",
      "memory usage: 83.7+ KB\n"
     ]
    }
   ],
   "source": [
    "df.info()"
   ]
  },
  {
   "cell_type": "code",
   "execution_count": 176,
   "id": "9b2acffa-d198-4704-9cf9-ed39953caa28",
   "metadata": {},
   "outputs": [],
   "source": [
    "#Changing Data types\n",
    "df[\"Age\"]=df[\"Age\"].astype(int)"
   ]
  },
  {
   "cell_type": "code",
   "execution_count": 172,
   "id": "b46b2b1b-73c3-4f63-96a9-b0d9a4ca5ac9",
   "metadata": {},
   "outputs": [
    {
     "name": "stdout",
     "output_type": "stream",
     "text": [
      "<class 'pandas.core.frame.DataFrame'>\n",
      "RangeIndex: 891 entries, 0 to 890\n",
      "Data columns (total 12 columns):\n",
      " #   Column       Non-Null Count  Dtype  \n",
      "---  ------       --------------  -----  \n",
      " 0   PassengerId  891 non-null    int64  \n",
      " 1   Survived     891 non-null    int64  \n",
      " 2   Pclass       891 non-null    int64  \n",
      " 3   Name         891 non-null    object \n",
      " 4   Sex          891 non-null    object \n",
      " 5   Age          891 non-null    int32  \n",
      " 6   SibSp        891 non-null    int64  \n",
      " 7   Parch        891 non-null    int64  \n",
      " 8   Ticket       891 non-null    object \n",
      " 9   Fare         891 non-null    float64\n",
      " 10  Cabin        204 non-null    object \n",
      " 11  Embarked     889 non-null    object \n",
      "dtypes: float64(1), int32(1), int64(5), object(5)\n",
      "memory usage: 80.2+ KB\n"
     ]
    }
   ],
   "source": [
    "df.info()"
   ]
  },
  {
   "cell_type": "markdown",
   "id": "f1cc3cc9-8d87-4f19-bc59-db753ce201af",
   "metadata": {},
   "source": [
    "<h4>Data Aanalysis Using Pandas</h4>"
   ]
  },
  {
   "cell_type": "markdown",
   "id": "dfa17eee-10aa-42c1-9541-a75f3041982c",
   "metadata": {},
   "source": [
    "<h5>Grouping and Aggregation</h5>"
   ]
  },
  {
   "cell_type": "code",
   "execution_count": 184,
   "id": "adff2f14-d973-48bd-8e39-7f9cc3eba8c7",
   "metadata": {},
   "outputs": [],
   "source": [
    "survive=df.groupby([\"Survived\"])"
   ]
  },
  {
   "cell_type": "code",
   "execution_count": 186,
   "id": "5cd95bcf-1924-49e0-8c3e-6619ed696ee0",
   "metadata": {},
   "outputs": [
    {
     "data": {
      "text/plain": [
       "<pandas.core.groupby.generic.DataFrameGroupBy object at 0x000001D80C688E00>"
      ]
     },
     "execution_count": 186,
     "metadata": {},
     "output_type": "execute_result"
    }
   ],
   "source": [
    "survive"
   ]
  },
  {
   "cell_type": "code",
   "execution_count": 206,
   "id": "16a3fd83-e26e-4c43-b927-41235460c3a7",
   "metadata": {},
   "outputs": [
    {
     "data": {
      "text/plain": [
       "Sex\n",
       "female    233\n",
       "male      109\n",
       "Name: count, dtype: int64"
      ]
     },
     "execution_count": 206,
     "metadata": {},
     "output_type": "execute_result"
    }
   ],
   "source": [
    "survive.get_group(1)[\"Sex\"].value_counts()"
   ]
  },
  {
   "cell_type": "code",
   "execution_count": 230,
   "id": "63f33c8f-3a85-4f97-94d3-7df70ad6e2c8",
   "metadata": {},
   "outputs": [],
   "source": [
    "df['Ticket'] = pd.to_numeric(df['Ticket'], errors='coerce')"
   ]
  },
  {
   "cell_type": "code",
   "execution_count": 232,
   "id": "90a42669-4215-44ee-8cae-3c823ce5f5eb",
   "metadata": {},
   "outputs": [
    {
     "data": {
      "text/html": [
       "<div>\n",
       "<style scoped>\n",
       "    .dataframe tbody tr th:only-of-type {\n",
       "        vertical-align: middle;\n",
       "    }\n",
       "\n",
       "    .dataframe tbody tr th {\n",
       "        vertical-align: top;\n",
       "    }\n",
       "\n",
       "    .dataframe thead th {\n",
       "        text-align: right;\n",
       "    }\n",
       "</style>\n",
       "<table border=\"1\" class=\"dataframe\">\n",
       "  <thead>\n",
       "    <tr style=\"text-align: right;\">\n",
       "      <th></th>\n",
       "      <th>mean</th>\n",
       "      <th>median</th>\n",
       "    </tr>\n",
       "    <tr>\n",
       "      <th>Survived</th>\n",
       "      <th></th>\n",
       "      <th></th>\n",
       "    </tr>\n",
       "  </thead>\n",
       "  <tbody>\n",
       "    <tr>\n",
       "      <th>0</th>\n",
       "      <td>305909.648649</td>\n",
       "      <td>315094.0</td>\n",
       "    </tr>\n",
       "    <tr>\n",
       "      <th>1</th>\n",
       "      <td>187265.094488</td>\n",
       "      <td>111397.5</td>\n",
       "    </tr>\n",
       "  </tbody>\n",
       "</table>\n",
       "</div>"
      ],
      "text/plain": [
       "                   mean    median\n",
       "Survived                         \n",
       "0         305909.648649  315094.0\n",
       "1         187265.094488  111397.5"
      ]
     },
     "execution_count": 232,
     "metadata": {},
     "output_type": "execute_result"
    }
   ],
   "source": [
    "survive[\"Ticket\"].agg([\"mean\",\"median\"])"
   ]
  },
  {
   "cell_type": "code",
   "execution_count": 234,
   "id": "e54fc4e7-7f07-465b-8618-6e91f9f9e6e8",
   "metadata": {},
   "outputs": [
    {
     "data": {
      "text/html": [
       "<div>\n",
       "<style scoped>\n",
       "    .dataframe tbody tr th:only-of-type {\n",
       "        vertical-align: middle;\n",
       "    }\n",
       "\n",
       "    .dataframe tbody tr th {\n",
       "        vertical-align: top;\n",
       "    }\n",
       "\n",
       "    .dataframe thead th {\n",
       "        text-align: right;\n",
       "    }\n",
       "</style>\n",
       "<table border=\"1\" class=\"dataframe\">\n",
       "  <thead>\n",
       "    <tr style=\"text-align: right;\">\n",
       "      <th></th>\n",
       "      <th>min</th>\n",
       "      <th>max</th>\n",
       "    </tr>\n",
       "    <tr>\n",
       "      <th>Survived</th>\n",
       "      <th></th>\n",
       "      <th></th>\n",
       "    </tr>\n",
       "  </thead>\n",
       "  <tbody>\n",
       "    <tr>\n",
       "      <th>0</th>\n",
       "      <td>693.0</td>\n",
       "      <td>3101296.0</td>\n",
       "    </tr>\n",
       "    <tr>\n",
       "      <th>1</th>\n",
       "      <td>1601.0</td>\n",
       "      <td>3101298.0</td>\n",
       "    </tr>\n",
       "  </tbody>\n",
       "</table>\n",
       "</div>"
      ],
      "text/plain": [
       "             min        max\n",
       "Survived                   \n",
       "0          693.0  3101296.0\n",
       "1         1601.0  3101298.0"
      ]
     },
     "execution_count": 234,
     "metadata": {},
     "output_type": "execute_result"
    }
   ],
   "source": [
    "survive[\"Ticket\"].agg([\"min\",\"max\"])"
   ]
  },
  {
   "cell_type": "markdown",
   "id": "89c2d2f4-2b5c-4c39-a953-b4bce1400fdf",
   "metadata": {},
   "source": [
    "<h4>Application of Pandas in Data Science</h4></h4>"
   ]
  },
  {
   "cell_type": "markdown",
   "id": "f2ffe8ab-13e2-4e34-b510-836dd398dbc1",
   "metadata": {},
   "source": [
    "Pandas is a powerful and essential library for data science professionals, offering robust data manipulation and analysis capabilities. In our program, Pandas allows us to efficiently handle, clean, and analyze data, which is crucial for making data-driven decisions. Here’s an explanation of how Pandas aids data scientists, its advantages over traditional Python data structures, and real-world applications:\n",
    "\n",
    "Advantages of Using Pandas Over Traditional Python Data Structures\n",
    "Ease of Data Manipulation:\n",
    "\n",
    "Pandas provides high-level data manipulation tools such as DataFrame and Series, making it easier to filter, aggregate, and transform data compared to lists or dictionaries in Python.\n",
    "Operations such as merging, joining, pivoting, and reshaping datasets are straightforward in Pandas, whereas they would be cumbersome and error-prone with native Python structures.\n",
    "Handling Missing Data:\n",
    "\n",
    "Pandas offers built-in methods to handle missing data (fillna, dropna, etc.), making it easy to prepare data for analysis without extensive coding.\n",
    "It also supports time-series data manipulation, allowing for complex operations like resampling and time-shifting, which are not directly available in traditional Python structures.\n",
    "Performance and Efficiency:\n",
    "\n",
    "Pandas is built on top of NumPy, which provides efficient array-based operations. This results in faster computation and better performance, especially with large datasets.\n",
    "The library is optimized for data manipulation tasks, reducing the need for manual loops and making code more concise and readable.\n",
    "Integration with Other Data Science Tools:\n",
    "\n",
    "Pandas seamlessly integrates with other data science libraries such as Matplotlib, Seaborn, and Scikit-learn, enabling a smooth workflow from data processing to visualization and modeling.\n",
    "It also supports various data formats (CSV, Excel, SQL, JSON), making it versatile for data ingestion and export.\n",
    "Real-World Examples of Pandas in Data Science\n",
    "Data Cleaning:\n",
    "\n",
    "In the real world, data is often messy, containing duplicates, missing values, and inconsistent formats. For example, in financial data analysis, Pandas can be used to clean stock price datasets by handling missing values, ensuring consistent date formats, and filtering out anomalies.\n",
    "Exploratory Data Analysis (EDA):\n",
    "\n",
    "EDA is a critical step in data science to understand data distribution, detect patterns, and identify relationships between variables. For instance, in healthcare, Pandas can be used to analyze patient data, summarize key statistics, visualize correlations between different health metrics, and prepare the data for predictive modeling.\n",
    "Time Series Analysis:\n",
    "\n",
    "Pandas is essential for working with time-series data, such as stock market prices, weather data, or sales data. It provides functionality to resample data (e.g., converting daily data to monthly), compute rolling averages, and handle time-zone-aware timestamps, which are pivotal for accurate time-based analysis.\n",
    "Data Aggregation and Grouping:\n",
    "\n",
    "In scenarios like customer segmentation in marketing, Pandas allows for grouping data by different categories (e.g., demographics, purchase history) to perform aggregated analysis like calculating average spend per segment or identifying high-value customer groups.\n",
    "Data Visualization:\n",
    "\n",
    "Pandas works hand-in-hand with visualization libraries, allowing quick plotting of data directly from DataFrames. For example, during EDA, a data scientist can quickly generate line plots, histograms, or box plots to visualize trends and distributions, aiding in the hypothesis generation phase.\n",
    "Conclusion\n",
    "Pandas empowers data science professionals to efficiently handle and analyze complex datasets, making it a fundamental tool in the data science toolkit. Its ease of use, integration capabilities, and powerful data manipulation functions make it far superior to traditional Python data structures for data-intensive tasks. Whether cleaning data, conducting EDA, or preparing data for machine learning, Pandas streamlines the entire data analysis pipeline, making it indispensable for any data-driven project."
   ]
  },
  {
   "cell_type": "code",
   "execution_count": null,
   "id": "d2b4022a-55ca-4550-9c3e-8b3be2bcc93a",
   "metadata": {},
   "outputs": [],
   "source": []
  }
 ],
 "metadata": {
  "kernelspec": {
   "display_name": "Python 3 (ipykernel)",
   "language": "python",
   "name": "python3"
  },
  "language_info": {
   "codemirror_mode": {
    "name": "ipython",
    "version": 3
   },
   "file_extension": ".py",
   "mimetype": "text/x-python",
   "name": "python",
   "nbconvert_exporter": "python",
   "pygments_lexer": "ipython3",
   "version": "3.12.4"
  }
 },
 "nbformat": 4,
 "nbformat_minor": 5
}
